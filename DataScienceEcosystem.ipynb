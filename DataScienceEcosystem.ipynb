{
 "cells": [
  {
   "cell_type": "markdown",
   "id": "26d79991-b374-4b05-b54c-7070a519bd78",
   "metadata": {},
   "source": [
    "# Data Science Tools and Ecosystem\n"
   ]
  },
  {
   "cell_type": "markdown",
   "id": "42e777cd-2232-4376-a094-ae0d797b6b51",
   "metadata": {},
   "source": [
    "In this notebook, Data Science Tools and Ecosystem are summarized."
   ]
  },
  {
   "cell_type": "markdown",
   "id": "7cd91c0a-a5df-4217-90bd-db8a9addc36a",
   "metadata": {},
   "source": [
    "Some of the popular languages that Data Scientists use are:\n",
    "1. Python  \n",
    "2. R  \n",
    "3. SQL  \n",
    "4. Java  \n",
    "5. Julia"
   ]
  },
  {
   "cell_type": "markdown",
   "id": "eb611475-bf4a-4481-b3eb-cb8ff924b8a9",
   "metadata": {},
   "source": [
    "Some of the commonly used libraries used by Data Scientists include:\r\n",
    "\r\n",
    "1. NumPy  \r\n",
    "2. Pandas  \r\n",
    "3. Matplotlib  \r\n",
    "4. Scikit-learn  \r\n",
    "5. TensrFlow\r\n"
   ]
  },
  {
   "cell_type": "markdown",
   "id": "d62cc907-ad02-464e-a17a-7fc43eb79f38",
   "metadata": {},
   "source": [
    "| Data Science Tools         |\r\n",
    "|---------------------------|\r\n",
    "| Jupyter Notebook          |\r\n",
    "| RStudio                   |\r\n",
    "| Visual Studio Code (VS Code) |\r\n"
   ]
  },
  {
   "cell_type": "markdown",
   "id": "eb1e453e-eb1e-4408-9db5-f0469a16a816",
   "metadata": {},
   "source": [
    "### Below are a few examples of evaluating arithmetic expressions in Python."
   ]
  },
  {
   "cell_type": "code",
   "execution_count": 9,
   "id": "d69462fd-f2eb-49fd-b20c-111a21d1f974",
   "metadata": {},
   "outputs": [
    {
     "data": {
      "text/plain": [
       "17"
      ]
     },
     "execution_count": 9,
     "metadata": {},
     "output_type": "execute_result"
    }
   ],
   "source": [
    "# This is a simple arithmetic expression to multiply then add integers\n",
    "(3 * 4) + 5"
   ]
  },
  {
   "cell_type": "code",
   "execution_count": 11,
   "id": "e2f604e2-f636-4b6a-a583-9a6018c626ed",
   "metadata": {},
   "outputs": [
    {
     "data": {
      "text/plain": [
       "3.3333333333333335"
      ]
     },
     "execution_count": 11,
     "metadata": {},
     "output_type": "execute_result"
    }
   ],
   "source": [
    "# This will convert 200 minutes to hours by dividing by 60\n",
    "200 / 60"
   ]
  },
  {
   "cell_type": "markdown",
   "id": "992b2b04-29a0-4878-a615-38e5019be834",
   "metadata": {},
   "source": [
    "**Objectives:**\r\n",
    "\r\n",
    "- List popular languages for Data Science  \r\n",
    "- Identify commonly used libraries in Data Science  \r\n",
    "- Create and format tables in Markdown  \r\n",
    "- Perform arithmetic operations using Python code  \r\n",
    "- Convert minutes into hours using Python expressions\r\n"
   ]
  },
  {
   "cell_type": "markdown",
   "id": "672eaee4-c8c2-4095-adac-2636feb60845",
   "metadata": {},
   "source": [
    "## Author\r\n",
    "\r\n",
    "Aritra Bera\r\n"
   ]
  },
  {
   "cell_type": "code",
   "execution_count": null,
   "id": "7792ae5b-5afd-48f9-9e82-ee0b7c01b096",
   "metadata": {},
   "outputs": [],
   "source": []
  }
 ],
 "metadata": {
  "kernelspec": {
   "display_name": "Python 3 (ipykernel)",
   "language": "python",
   "name": "python3"
  },
  "language_info": {
   "codemirror_mode": {
    "name": "ipython",
    "version": 3
   },
   "file_extension": ".py",
   "mimetype": "text/x-python",
   "name": "python",
   "nbconvert_exporter": "python",
   "pygments_lexer": "ipython3",
   "version": "3.12.4"
  }
 },
 "nbformat": 4,
 "nbformat_minor": 5
}
